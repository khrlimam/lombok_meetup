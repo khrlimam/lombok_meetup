{
 "cells": [
  {
   "cell_type": "code",
   "execution_count": 1,
   "metadata": {},
   "outputs": [],
   "source": [
    "import pandas as pd"
   ]
  },
  {
   "cell_type": "code",
   "execution_count": 2,
   "metadata": {},
   "outputs": [],
   "source": [
    "import pandas as pd\n",
    "import matplotlib.pyplot as plt\n",
    "import numpy as np\n",
    "from sklearn.model_selection import cross_val_score, train_test_split\n",
    "from sklearn.linear_model import LinearRegression\n",
    "from sklearn.metrics import mean_squared_error, mean_absolute_error"
   ]
  },
  {
   "cell_type": "markdown",
   "metadata": {},
   "source": [
    "##### Fungsi prepare_feature jika temen2 ingin mengolah feature2, seperti menghilangkan feature, transformasi feature, dll"
   ]
  },
  {
   "cell_type": "code",
   "execution_count": 105,
   "metadata": {},
   "outputs": [],
   "source": [
    "def fillna(trn):\n",
    "    return trn.fillna(0)"
   ]
  },
  {
   "cell_type": "code",
   "execution_count": 106,
   "metadata": {},
   "outputs": [],
   "source": [
    "def clean_object_column(trn):\n",
    "    trn2 = trn.copy()\n",
    "    for y in trn2.columns:\n",
    "        if trn2[y].dtype == 'object':\n",
    "            del trn2[y]\n",
    "    return trn2"
   ]
  },
  {
   "cell_type": "markdown",
   "metadata": {},
   "source": [
    "#### pada fungsi train_model ini, silahkan memilih algorithm yang menurut temen2 cocok. Sebagai tahap silahkan menggunakan linear regression"
   ]
  },
  {
   "cell_type": "code",
   "execution_count": 107,
   "metadata": {},
   "outputs": [],
   "source": [
    "def train_model(trainX,trainY):\n",
    "    \n",
    "    \n",
    "    #silahkan tambahkan fungsi untuk training model disini\n",
    "    \n",
    "    \n",
    "    print(\"RMSE Training data: \", np.sqrt(mean_squared_error(trainY, model.predict(trainX))))\n",
    "    print(\"MEA Training data: \", mean_absolute_error(trainY, model.predict(trainX)))\n",
    "    return model"
   ]
  },
  {
   "cell_type": "code",
   "execution_count": 108,
   "metadata": {},
   "outputs": [],
   "source": [
    "def eval(model, feat,label):\n",
    "    pred = model.predict(testX)\n",
    "    print(\"MSE : \", np.sqrt(mean_squared_error(testY, pred)))\n",
    "    print(\"MEA : \", mean_absolute_error(testY, pred))"
   ]
  },
  {
   "cell_type": "code",
   "execution_count": 128,
   "metadata": {},
   "outputs": [],
   "source": [
    "def predict_result(model, test_data): \n",
    "    feature,_ = get_feature_label(test_data)\n",
    "    submission = pd.DataFrame({\"Id\": test[\"Id\"], \"SalePrice\": model.predict(feature)})\n",
    "    submission.to_csv(\"data/submission.csv\", index=False)\n",
    "    print('saved to submission.csv')\n",
    "    return submission"
   ]
  },
  {
   "cell_type": "code",
   "execution_count": 129,
   "metadata": {},
   "outputs": [],
   "source": [
    "def get_feature_label(train_data):\n",
    "    label = None\n",
    "    if 'SalePrice' in train_data.columns:\n",
    "        label = train_data.SalePrice\n",
    "    lbl = []\n",
    "    for c in train_data.columns:\n",
    "        if c != 'SalePrice' and c != 'Id':\n",
    "            lbl.append(c)\n",
    "    feat = train_data[lbl]\n",
    "    return feat,label"
   ]
  },
  {
   "cell_type": "code",
   "execution_count": 130,
   "metadata": {},
   "outputs": [],
   "source": [
    "def prepare_feature(train_data,test_data):\n",
    "    train2 = train_data.copy()\n",
    "    test2 = test_data.copy()\n",
    "    \n",
    "    # Jika ada feature yang ingin diolah silahkan tambahkan di fungsi ini\n",
    "    # sebagai contoh, ambil beberapa variable yang memiliki korelasi cukup tinggi\n",
    "    \n",
    "    # silahkan 2 barus clean_object_column diganti dengan hasil analisa teman2\n",
    "    train2 = clean_object_column(train2)\n",
    "    test2 = clean_object_column(test2)\n",
    "    \n",
    "    train2 = fillna(train2)\n",
    "    test2 = fillna(test2)\n",
    "    return train2,test2"
   ]
  },
  {
   "cell_type": "code",
   "execution_count": 131,
   "metadata": {},
   "outputs": [],
   "source": [
    "train = pd.read_csv('data/train.csv')\n",
    "test = pd.read_csv('data/test.csv')"
   ]
  },
  {
   "cell_type": "code",
   "execution_count": 132,
   "metadata": {},
   "outputs": [],
   "source": [
    "train2,test2 = prepare_feature(train, test)\n",
    "feat,label = get_feature_label(train2)\n",
    "trainX,testX,trainY,testY = train_test_split(feat, label)"
   ]
  },
  {
   "cell_type": "code",
   "execution_count": 133,
   "metadata": {},
   "outputs": [
    {
     "name": "stdout",
     "output_type": "stream",
     "text": [
      "MSE Training data:  35135.7815196\n",
      "MEA Training data:  21787.3678163\n"
     ]
    }
   ],
   "source": [
    "model = train_model(trainX,trainY)"
   ]
  },
  {
   "cell_type": "code",
   "execution_count": 134,
   "metadata": {},
   "outputs": [
    {
     "name": "stdout",
     "output_type": "stream",
     "text": [
      "MSE :  32494.0710036\n",
      "MEA :  19934.5103291\n"
     ]
    }
   ],
   "source": [
    "eval(model,testX,testY)"
   ]
  },
  {
   "cell_type": "code",
   "execution_count": 135,
   "metadata": {},
   "outputs": [
    {
     "name": "stdout",
     "output_type": "stream",
     "text": [
      "MSE Training data:  34494.3259079\n",
      "MEA Training data:  21324.1534445\n"
     ]
    }
   ],
   "source": [
    "final_model = train_model(feat, label)"
   ]
  },
  {
   "cell_type": "code",
   "execution_count": 136,
   "metadata": {},
   "outputs": [
    {
     "name": "stdout",
     "output_type": "stream",
     "text": [
      "saved to submission.csv\n"
     ]
    }
   ],
   "source": [
    "submission = predict_result(final_model, test2)"
   ]
  }
 ],
 "metadata": {
  "kernelspec": {
   "display_name": "Python 3",
   "language": "python",
   "name": "python3"
  },
  "language_info": {
   "codemirror_mode": {
    "name": "ipython",
    "version": 3
   },
   "file_extension": ".py",
   "mimetype": "text/x-python",
   "name": "python",
   "nbconvert_exporter": "python",
   "pygments_lexer": "ipython3",
   "version": "3.6.1"
  }
 },
 "nbformat": 4,
 "nbformat_minor": 2
}
