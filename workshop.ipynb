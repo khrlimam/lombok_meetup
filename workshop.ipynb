{
 "cells": [
  {
   "cell_type": "code",
   "execution_count": 1,
   "metadata": {},
   "outputs": [],
   "source": [
    "import pandas as pd"
   ]
  },
  {
   "cell_type": "code",
   "execution_count": 187,
   "metadata": {},
   "outputs": [],
   "source": [
    "import pandas as pd\n",
    "import matplotlib.pyplot as plt\n",
    "import numpy as np\n",
    "from sklearn.model_selection import cross_val_score, train_test_split\n",
    "from sklearn.linear_model import LinearRegression\n",
    "from sklearn.metrics import mean_squared_error, mean_absolute_error\n",
    "from xgboost import XGBRegressor"
   ]
  },
  {
   "cell_type": "markdown",
   "metadata": {},
   "source": [
    "##### Fungsi prepare_feature jika temen2 ingin mengolah feature2, seperti menghilangkan feature, transformasi feature, dll"
   ]
  },
  {
   "cell_type": "code",
   "execution_count": 172,
   "metadata": {},
   "outputs": [],
   "source": [
    "def prepare_feature(train_data,test_data=None):\n",
    "    train2 = train_data.copy()\n",
    "    test2 = test_data.copy()\n",
    "    categ = {}\n",
    "    for y in train.columns:\n",
    "        if train2[y].dtype == 'object':\n",
    "            categ[y] = {k: 0 for i, k in enumerate(train2[y].unique())}\n",
    "    for colm in categ.keys():\n",
    "        for k in train[colm].unique():\n",
    "            if k is not np.nan:\n",
    "                key = colm+\"_\"+k\n",
    "                val = train2[colm]\n",
    "                val2 = test2[colm]\n",
    "                train2[key] = [1 if k == j else 0 for j in val]\n",
    "                test2[key]= [1 if k == j else 0 for j in val2] \n",
    "        del train2[colm]\n",
    "        del test2[colm]\n",
    "    train2 = train2.fillna(0)\n",
    "    test2 = test2.fillna(0)\n",
    "    return train2,test2"
   ]
  },
  {
   "cell_type": "code",
   "execution_count": 173,
   "metadata": {},
   "outputs": [],
   "source": [
    "def fillna(trn):\n",
    "    return trn.fillna(0)"
   ]
  },
  {
   "cell_type": "code",
   "execution_count": 174,
   "metadata": {},
   "outputs": [],
   "source": [
    "def clean_object_column(trn):\n",
    "    trn2 = trn.copy()\n",
    "    for y in trn2.columns:\n",
    "        if trn2[y].dtype == 'object':\n",
    "            del trn2[y]\n",
    "    return trn2"
   ]
  },
  {
   "cell_type": "markdown",
   "metadata": {},
   "source": [
    "#### pada fungsi train_model ini, silahkan memilih algorithm yang menurut temen2 cocok. Sebagai tahap silahkan menggunakan linear regression"
   ]
  },
  {
   "cell_type": "code",
   "execution_count": 188,
   "metadata": {},
   "outputs": [],
   "source": [
    "def train_model(trainX,trainY):\n",
    "    model = XGBRegressor()\n",
    "    model.fit(trainX, trainY)\n",
    "    print(\"MSE Training data: \", np.sqrt(mean_squared_error(trainY, model.predict(trainX))))\n",
    "    print(\"MEA Training data: \", mean_absolute_error(trainY, model.predict(trainX)))\n",
    "    return model"
   ]
  },
  {
   "cell_type": "code",
   "execution_count": 176,
   "metadata": {},
   "outputs": [],
   "source": [
    "def eval(model, feat,label):\n",
    "    pred = model.predict(testX)\n",
    "    print(\"MSE : \", np.sqrt(mean_squared_error(testY, pred)))\n",
    "    print(\"MEA : \", mean_absolute_error(testY, pred))"
   ]
  },
  {
   "cell_type": "code",
   "execution_count": 177,
   "metadata": {},
   "outputs": [],
   "source": [
    "def transform(data):\n",
    "    data2 = data.copy()\n",
    "    data2 = prepare_feature(data2)\n",
    "    # train2 = clean_object_column(train)\n",
    "    data2 = fillna(data2)\n",
    "    print(data2.shape)\n",
    "    return data2"
   ]
  },
  {
   "cell_type": "code",
   "execution_count": 178,
   "metadata": {},
   "outputs": [],
   "source": [
    "def predict_result(model, test_data): \n",
    "    feature,_ = get_feature_label(test_data)\n",
    "    submission = pd.DataFrame({\"Id\": test[\"Id\"], \"SalePrice\": model.predict(feature)})\n",
    "    submission.to_csv(\"data/submission.csv\", index=False)\n",
    "    print('saved to submission.csv')\n",
    "    return submission"
   ]
  },
  {
   "cell_type": "code",
   "execution_count": 179,
   "metadata": {},
   "outputs": [],
   "source": [
    "def get_feature_label(train_data):\n",
    "    label = None\n",
    "    if 'SalePrice' in train_data.columns:\n",
    "        label = train_data.SalePrice\n",
    "    lbl = []\n",
    "    for c in train_data.columns:\n",
    "        if c != 'SalePrice' and c != 'Id':\n",
    "            lbl.append(c)\n",
    "    feat = train_data[lbl]\n",
    "    return feat,label"
   ]
  },
  {
   "cell_type": "code",
   "execution_count": 180,
   "metadata": {},
   "outputs": [],
   "source": [
    "train = pd.read_csv('data/train.csv')\n",
    "test = pd.read_csv('data/test.csv')"
   ]
  },
  {
   "cell_type": "code",
   "execution_count": 181,
   "metadata": {},
   "outputs": [],
   "source": [
    "train2,test2 = prepare_feature(train, test)\n",
    "feat,label = get_feature_label(train2)\n",
    "trainX,testX,trainY,testY = train_test_split(feat, label)"
   ]
  },
  {
   "cell_type": "code",
   "execution_count": 189,
   "metadata": {},
   "outputs": [
    {
     "name": "stdout",
     "output_type": "stream",
     "text": [
      "MSE Training data:  14124.9560574\n",
      "MEA Training data:  10182.8826912\n"
     ]
    }
   ],
   "source": [
    "model = train_model(trainX,trainY)"
   ]
  },
  {
   "cell_type": "code",
   "execution_count": 190,
   "metadata": {},
   "outputs": [
    {
     "name": "stdout",
     "output_type": "stream",
     "text": [
      "MSE :  28199.6303074\n",
      "MEA :  16276.5421554\n"
     ]
    }
   ],
   "source": [
    "eval(model,testX,testY)"
   ]
  },
  {
   "cell_type": "code",
   "execution_count": 191,
   "metadata": {},
   "outputs": [
    {
     "name": "stdout",
     "output_type": "stream",
     "text": [
      "MSE Training data:  15305.7821466\n",
      "MEA Training data:  10941.005731\n"
     ]
    }
   ],
   "source": [
    "final_model = train_model(feat, label)"
   ]
  },
  {
   "cell_type": "code",
   "execution_count": 192,
   "metadata": {},
   "outputs": [
    {
     "name": "stdout",
     "output_type": "stream",
     "text": [
      "saved to submission.csv\n"
     ]
    }
   ],
   "source": [
    "submission = predict_result(final_model, test2)"
   ]
  },
  {
   "cell_type": "code",
   "execution_count": null,
   "metadata": {},
   "outputs": [],
   "source": []
  }
 ],
 "metadata": {
  "kernelspec": {
   "display_name": "Python 3",
   "language": "python",
   "name": "python3"
  },
  "language_info": {
   "codemirror_mode": {
    "name": "ipython",
    "version": 3
   },
   "file_extension": ".py",
   "mimetype": "text/x-python",
   "name": "python",
   "nbconvert_exporter": "python",
   "pygments_lexer": "ipython3",
   "version": "3.6.1"
  }
 },
 "nbformat": 4,
 "nbformat_minor": 2
}
